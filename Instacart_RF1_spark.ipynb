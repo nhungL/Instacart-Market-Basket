{
 "cells": [
  {
   "cell_type": "markdown",
   "metadata": {},
   "source": [
    "# **Logistic Regression**"
   ]
  },
  {
   "cell_type": "markdown",
   "metadata": {},
   "source": [
    "### **1. Get data**"
   ]
  },
  {
   "cell_type": "code",
   "execution_count": 26,
   "metadata": {},
   "outputs": [],
   "source": [
    "from pyspark.sql import SparkSession\n",
    "\n",
    "# Create a Spark session\n",
    "spark = SparkSession.builder \\\n",
    "    .config(\"spark.executor.memory\", \"4g\") \\\n",
    "    .config(\"spark.driver.memory\", \"15g\") \\\n",
    "    .appName(\"Random Forest Model\") \\\n",
    "    .getOrCreate()\n"
   ]
  },
  {
   "cell_type": "code",
   "execution_count": 27,
   "metadata": {},
   "outputs": [
    {
     "name": "stderr",
     "output_type": "stream",
     "text": [
      "                                                                                \r"
     ]
    },
    {
     "name": "stdout",
     "output_type": "stream",
     "text": [
      "+----------+---------+--------+-------------+--------------------+-------------------+-------+------------------+---------------------+\n",
      "|product_id|reordered|aisle_id|department_id|fav_aisle_aggregated|fav_dept_aggregated|cluster| avg_cart_position|avg_purchase_interval|\n",
      "+----------+---------+--------+-------------+--------------------+-------------------+-------+------------------+---------------------+\n",
      "|     33120|        0|      86|           16|                  24|                  4|      0|              11.0|                 11.2|\n",
      "|     21903|        0|     123|            4|                  24|                  4|      0| 4.176470588235294|    8.941176470588236|\n",
      "|     24852|        1|      24|            4|                  24|                  4|      0|4.6923076923076925|                10.92|\n",
      "|     47766|        1|      24|            4|                  24|                  4|      0|               6.0|                  7.0|\n",
      "|     35951|        0|      91|           16|                  24|                  4|      0| 7.181818181818182|    9.636363636363637|\n",
      "+----------+---------+--------+-------------+--------------------+-------------------+-------+------------------+---------------------+\n",
      "only showing top 5 rows\n",
      "\n"
     ]
    }
   ],
   "source": [
    "# Read training data\n",
    "train_df = spark.read.csv(\"data/train.csv\", header=True, inferSchema=True)\n",
    "train_df = train_df.drop(\"_c0\")\n",
    "\n",
    "# Read test data\n",
    "# test_df = spark.read.csv(\"data/test.csv\", header=True, inferSchema=True)\n",
    "# test_df = test_df.drop(\"_c0\")\n",
    "\n",
    "train_df.show(5)"
   ]
  },
  {
   "cell_type": "code",
   "execution_count": 28,
   "metadata": {},
   "outputs": [
    {
     "name": "stderr",
     "output_type": "stream",
     "text": [
      "[Stage 39:>                                                       (0 + 10) / 10]\r"
     ]
    },
    {
     "name": "stdout",
     "output_type": "stream",
     "text": [
      "Training Dataset Count: 24142994\n"
     ]
    },
    {
     "name": "stderr",
     "output_type": "stream",
     "text": [
      "                                                                                \r"
     ]
    }
   ],
   "source": [
    "print(\"Training Dataset Count: \" + str(train_df.count()))\n",
    "# print(\"Test Dataset Count: \" + str(test_df.count()))"
   ]
  },
  {
   "cell_type": "code",
   "execution_count": 29,
   "metadata": {},
   "outputs": [
    {
     "name": "stderr",
     "output_type": "stream",
     "text": [
      "[Stage 42:>                                                       (0 + 10) / 10]\r"
     ]
    },
    {
     "name": "stdout",
     "output_type": "stream",
     "text": [
      "+---------+--------+\n",
      "|reordered|   count|\n",
      "+---------+--------+\n",
      "|        1|14492645|\n",
      "|        0| 9650349|\n",
      "+---------+--------+\n",
      "\n"
     ]
    },
    {
     "name": "stderr",
     "output_type": "stream",
     "text": [
      "                                                                                \r"
     ]
    }
   ],
   "source": [
    "label_counts = train_df.groupBy(\"reordered\").count()\n",
    "label_counts.show()"
   ]
  },
  {
   "cell_type": "markdown",
   "metadata": {},
   "source": [
    "#### 1.1. Split train_df into train and validation data"
   ]
  },
  {
   "cell_type": "code",
   "execution_count": 30,
   "metadata": {},
   "outputs": [
    {
     "name": "stderr",
     "output_type": "stream",
     "text": [
      "                                                                                \r"
     ]
    },
    {
     "name": "stdout",
     "output_type": "stream",
     "text": [
      "Training Dataset Count: 19313049\n"
     ]
    },
    {
     "name": "stderr",
     "output_type": "stream",
     "text": [
      "[Stage 48:===========>                                             (2 + 8) / 10]\r"
     ]
    },
    {
     "name": "stdout",
     "output_type": "stream",
     "text": [
      "Validation Dataset Count: 4829945\n"
     ]
    },
    {
     "name": "stderr",
     "output_type": "stream",
     "text": [
      "                                                                                \r"
     ]
    }
   ],
   "source": [
    "train_data, validation_data = train_df.randomSplit([0.8, 0.2], seed=42)\n",
    "\n",
    "print(\"Training Dataset Count: \" + str(train_data.count()))\n",
    "print(\"Validation Dataset Count: \" + str(validation_data.count()))"
   ]
  },
  {
   "cell_type": "markdown",
   "metadata": {},
   "source": [
    "### **2. Data Preprocessing**"
   ]
  },
  {
   "cell_type": "code",
   "execution_count": 31,
   "metadata": {},
   "outputs": [],
   "source": [
    "from pyspark.ml.feature import StringIndexer, OneHotEncoder, VectorAssembler, StandardScaler\n",
    "from pyspark.ml import Pipeline"
   ]
  },
  {
   "cell_type": "code",
   "execution_count": 32,
   "metadata": {},
   "outputs": [],
   "source": [
    "numeric_features = [\"avg_cart_position\", \"avg_purchase_interval\"]\n",
    "categorical_features = [\"product_id\", \"aisle_id\", \"department_id\", \"fav_aisle_aggregated\", \"fav_dept_aggregated\", \"cluster\"]"
   ]
  },
  {
   "cell_type": "markdown",
   "metadata": {},
   "source": [
    "#### 2.1. Build Pipeline and Fit"
   ]
  },
  {
   "cell_type": "code",
   "execution_count": 33,
   "metadata": {},
   "outputs": [],
   "source": [
    "'''\n",
    "    Indexing categorical columns:\n",
    "    - The indexer assigns a unique index to each category based on \n",
    "        the frequency of the category appearing in the dataset \n",
    "        (most frequent category gets index 0)\n",
    "'''\n",
    "\n",
    "indexers = [\n",
    "    StringIndexer(inputCol=column, outputCol=column+\"_indexed\", handleInvalid=\"keep\")\n",
    "    for column in categorical_features\n",
    "]\n",
    "# for indexer in indexers:\n",
    "#     sample_df = indexer.fit(sample_df).transform(sample_df)\n",
    "#     sample_df.show()"
   ]
  },
  {
   "cell_type": "code",
   "execution_count": 34,
   "metadata": {},
   "outputs": [
    {
     "data": {
      "text/plain": [
       "'\\n    Encoding categorical columns:\\n    - OneHotEncoder (PySpark transformer): convert each index of a categorical feature into \\n        a binary vector with at most a single one-value indicating the presence of \\n        a specific feature value from among the set of all feature values.\\n'"
      ]
     },
     "execution_count": 34,
     "metadata": {},
     "output_type": "execute_result"
    }
   ],
   "source": [
    "'''\n",
    "    Encoding categorical columns:\n",
    "    - OneHotEncoder (PySpark transformer): convert each index of a categorical feature into \n",
    "        a binary vector with at most a single one-value indicating the presence of \n",
    "        a specific feature value from among the set of all feature values.\n",
    "'''\n",
    "\n",
    "# encoder = OneHotEncoder(\n",
    "#     inputCols=[indexer.getOutputCol() for indexer in indexers],\n",
    "#     outputCols=[f\"{column}_encoded\" for column in categorical_features]\n",
    "# )\n",
    "\n",
    "# sample_df = encoder.fit(sample_df).transform(sample_df)\n",
    "# sample_df.show()"
   ]
  },
  {
   "cell_type": "code",
   "execution_count": 39,
   "metadata": {},
   "outputs": [],
   "source": [
    "'''\n",
    "    VectorAssembler: transformer that combines multiple columns of data into a single vector column\n",
    "    Output: one column of all features\n",
    "'''\n",
    "num_assembler = VectorAssembler(inputCols=numeric_features, outputCol=\"num_features\")\n",
    "\n",
    "# sample_df = num_assembler.transform(sample_df)\n",
    "\n",
    "'''\n",
    "    Scaling numerical features\n",
    "'''\n",
    "scaler = StandardScaler(inputCol=\"num_features\", outputCol=\"scaled_numeric_features\")\n",
    "\n",
    "# scaler_model = scaler.fit(sample_df)\n",
    "# sample_df = scaler_model.transform(sample_df)\n",
    "# sample_df.show()"
   ]
  },
  {
   "cell_type": "code",
   "execution_count": 47,
   "metadata": {},
   "outputs": [],
   "source": [
    "final_assembler = VectorAssembler(\n",
    "    inputCols=[f\"{column}_indexed\" for column in categorical_features] + [\"scaled_numeric_features\"],\n",
    "    outputCol=\"features\"\n",
    ")\n",
    "\n",
    "# sample_df = final_assembler.transform(sample_df)\n",
    "# sample_df.show()"
   ]
  },
  {
   "cell_type": "code",
   "execution_count": 48,
   "metadata": {},
   "outputs": [],
   "source": [
    "# Pipeline: include indexer stages, encoder, num_assembler, scaler, and final_assembler\n",
    "pipeline = Pipeline(stages=indexers + [num_assembler, scaler, final_assembler])"
   ]
  },
  {
   "cell_type": "code",
   "execution_count": 49,
   "metadata": {},
   "outputs": [
    {
     "name": "stderr",
     "output_type": "stream",
     "text": [
      "                                                                                \r"
     ]
    }
   ],
   "source": [
    "# Fit pipeline to training data\n",
    "pipeline_model = pipeline.fit(train_data)"
   ]
  },
  {
   "cell_type": "code",
   "execution_count": 50,
   "metadata": {},
   "outputs": [],
   "source": [
    "# Transform both training and validation data using the fitted pipeline model\n",
    "train_transformed = pipeline_model.transform(train_data)\n",
    "validation_transformed = pipeline_model.transform(validation_data)"
   ]
  },
  {
   "cell_type": "code",
   "execution_count": 51,
   "metadata": {},
   "outputs": [
    {
     "name": "stdout",
     "output_type": "stream",
     "text": [
      "root\n",
      " |-- product_id: integer (nullable = true)\n",
      " |-- reordered: integer (nullable = true)\n",
      " |-- aisle_id: integer (nullable = true)\n",
      " |-- department_id: integer (nullable = true)\n",
      " |-- fav_aisle_aggregated: integer (nullable = true)\n",
      " |-- fav_dept_aggregated: integer (nullable = true)\n",
      " |-- cluster: integer (nullable = true)\n",
      " |-- avg_cart_position: double (nullable = true)\n",
      " |-- avg_purchase_interval: double (nullable = true)\n",
      " |-- product_id_indexed: double (nullable = false)\n",
      " |-- aisle_id_indexed: double (nullable = false)\n",
      " |-- department_id_indexed: double (nullable = false)\n",
      " |-- fav_aisle_aggregated_indexed: double (nullable = false)\n",
      " |-- fav_dept_aggregated_indexed: double (nullable = false)\n",
      " |-- cluster_indexed: double (nullable = false)\n",
      " |-- num_features: vector (nullable = true)\n",
      " |-- scaled_numeric_features: vector (nullable = true)\n",
      " |-- features: vector (nullable = true)\n",
      "\n"
     ]
    }
   ],
   "source": [
    "train_transformed.printSchema()"
   ]
  },
  {
   "cell_type": "markdown",
   "metadata": {},
   "source": [
    "#### 2.2. Fit Random Forest Model"
   ]
  },
  {
   "cell_type": "code",
   "execution_count": 52,
   "metadata": {},
   "outputs": [],
   "source": [
    "from pyspark.ml.classification import RandomForestClassifier\n",
    "import numpy as np"
   ]
  },
  {
   "cell_type": "code",
   "execution_count": 55,
   "metadata": {},
   "outputs": [],
   "source": [
    "rf = RandomForestClassifier(featuresCol='features', labelCol='reordered', numTrees=100, maxBins=50000)"
   ]
  },
  {
   "cell_type": "code",
   "execution_count": 56,
   "metadata": {},
   "outputs": [
    {
     "name": "stderr",
     "output_type": "stream",
     "text": [
      "24/06/05 15:37:33 WARN DAGScheduler: Broadcasting large task binary with size 2.0 MiB\n",
      "24/06/05 15:37:38 WARN DAGScheduler: Broadcasting large task binary with size 2.0 MiB\n",
      "24/06/05 15:38:50 WARN DAGScheduler: Broadcasting large task binary with size 2.0 MiB\n",
      "24/06/05 15:40:00 WARN DAGScheduler: Broadcasting large task binary with size 2.1 MiB\n",
      "24/06/05 15:40:52 WARN MemoryStore: Not enough space to cache rdd_352_4 in memory! (computed 509.3 MiB so far)\n",
      "24/06/05 15:40:52 WARN BlockManager: Persisting block rdd_352_4 to disk instead.\n",
      "24/06/05 15:40:52 WARN MemoryStore: Not enough space to cache rdd_352_3 in memory! (computed 509.3 MiB so far)\n",
      "24/06/05 15:40:52 WARN BlockManager: Persisting block rdd_352_3 to disk instead.\n",
      "24/06/05 15:40:52 WARN MemoryStore: Not enough space to cache rdd_352_0 in memory! (computed 509.3 MiB so far)\n",
      "24/06/05 15:40:52 WARN BlockManager: Persisting block rdd_352_0 to disk instead.\n",
      "24/06/05 15:40:52 WARN MemoryStore: Not enough space to cache rdd_352_7 in memory! (computed 509.3 MiB so far)\n",
      "24/06/05 15:40:52 WARN BlockManager: Persisting block rdd_352_7 to disk instead.\n",
      "24/06/05 15:40:52 WARN MemoryStore: Not enough space to cache rdd_352_1 in memory! (computed 509.3 MiB so far)\n",
      "24/06/05 15:40:52 WARN BlockManager: Persisting block rdd_352_1 to disk instead.\n",
      "24/06/05 15:40:53 WARN MemoryStore: Not enough space to cache rdd_352_2 in memory! (computed 509.3 MiB so far)\n",
      "24/06/05 15:40:53 WARN BlockManager: Persisting block rdd_352_2 to disk instead.\n",
      "24/06/05 15:42:01 WARN MemoryStore: Not enough space to cache rdd_352_3 in memory! (computed 764.0 MiB so far)\n",
      "24/06/05 15:42:02 WARN MemoryStore: Not enough space to cache rdd_352_1 in memory! (computed 764.0 MiB so far)\n",
      "24/06/05 15:42:02 WARN MemoryStore: Not enough space to cache rdd_352_7 in memory! (computed 764.0 MiB so far)\n",
      "24/06/05 15:42:02 WARN MemoryStore: Not enough space to cache rdd_352_2 in memory! (computed 509.3 MiB so far)\n",
      "24/06/05 15:43:17 WARN DAGScheduler: Broadcasting large task binary with size 11.3 MiB\n",
      "24/06/05 15:43:23 WARN MemoryStore: Not enough space to cache rdd_352_3 in memory! (computed 764.0 MiB so far)\n",
      "24/06/05 15:43:23 WARN MemoryStore: Not enough space to cache rdd_352_2 in memory! (computed 764.0 MiB so far)\n",
      "24/06/05 15:43:23 WARN MemoryStore: Not enough space to cache rdd_352_1 in memory! (computed 764.0 MiB so far)\n",
      "24/06/05 15:43:24 WARN MemoryStore: Not enough space to cache rdd_352_7 in memory! (computed 764.0 MiB so far)\n",
      "24/06/05 15:45:39 WARN DAGScheduler: Broadcasting large task binary with size 22.3 MiB\n",
      "24/06/05 15:45:46 WARN MemoryStore: Not enough space to cache rdd_352_7 in memory! (computed 764.0 MiB so far)\n",
      "24/06/05 15:45:46 WARN MemoryStore: Not enough space to cache rdd_352_2 in memory! (computed 764.0 MiB so far)\n",
      "24/06/05 15:45:46 WARN MemoryStore: Not enough space to cache rdd_352_3 in memory! (computed 764.0 MiB so far)\n",
      "24/06/05 15:45:47 WARN MemoryStore: Not enough space to cache rdd_352_1 in memory! (computed 764.0 MiB so far)\n",
      "24/06/05 15:49:51 WARN DAGScheduler: Broadcasting large task binary with size 48.2 MiB\n",
      "24/06/05 15:50:04 WARN MemoryStore: Not enough space to cache rdd_352_1 in memory! (computed 764.0 MiB so far)\n",
      "24/06/05 15:50:04 WARN MemoryStore: Not enough space to cache rdd_352_3 in memory! (computed 764.0 MiB so far)\n",
      "24/06/05 15:50:05 WARN MemoryStore: Not enough space to cache rdd_352_2 in memory! (computed 764.0 MiB so far)\n",
      "24/06/05 15:50:05 WARN MemoryStore: Not enough space to cache rdd_352_7 in memory! (computed 764.0 MiB so far)\n",
      "24/06/05 15:58:07 WARN DAGScheduler: Broadcasting large task binary with size 53.1 MiB\n",
      "24/06/05 15:58:27 WARN MemoryStore: Not enough space to cache rdd_352_3 in memory! (computed 764.0 MiB so far)\n",
      "24/06/05 15:58:27 WARN MemoryStore: Not enough space to cache rdd_352_1 in memory! (computed 764.0 MiB so far)\n",
      "24/06/05 15:58:27 WARN MemoryStore: Not enough space to cache rdd_352_2 in memory! (computed 764.0 MiB so far)\n",
      "24/06/05 15:58:27 WARN MemoryStore: Not enough space to cache rdd_352_7 in memory! (computed 764.0 MiB so far)\n",
      "24/06/05 16:06:20 WARN DAGScheduler: Broadcasting large task binary with size 48.8 MiB\n",
      "24/06/05 16:06:29 WARN MemoryStore: Not enough space to cache rdd_352_3 in memory! (computed 764.0 MiB so far)\n",
      "24/06/05 16:06:29 WARN MemoryStore: Not enough space to cache rdd_352_1 in memory! (computed 764.0 MiB so far)\n",
      "24/06/05 16:06:39 WARN MemoryStore: Not enough space to cache rdd_352_2 in memory! (computed 764.0 MiB so far)\n",
      "24/06/05 16:06:40 WARN MemoryStore: Not enough space to cache rdd_352_7 in memory! (computed 764.0 MiB so far)\n",
      "                                                                                \r"
     ]
    }
   ],
   "source": [
    "# Fit initial model\n",
    "rf_model = rf.fit(train_transformed)"
   ]
  },
  {
   "cell_type": "code",
   "execution_count": 57,
   "metadata": {},
   "outputs": [],
   "source": [
    "predictions = rf_model.transform(validation_transformed)"
   ]
  },
  {
   "cell_type": "code",
   "execution_count": 58,
   "metadata": {},
   "outputs": [
    {
     "name": "stderr",
     "output_type": "stream",
     "text": [
      "                                                                                \r"
     ]
    },
    {
     "name": "stdout",
     "output_type": "stream",
     "text": [
      "4829945\n"
     ]
    },
    {
     "name": "stderr",
     "output_type": "stream",
     "text": [
      "24/06/05 19:03:05 WARN DAGScheduler: Broadcasting large task binary with size 66.8 MiB\n",
      "[Stage 138:>                                                        (0 + 1) / 1]\r"
     ]
    },
    {
     "name": "stdout",
     "output_type": "stream",
     "text": [
      "+---------+----------+\n",
      "|reordered|prediction|\n",
      "+---------+----------+\n",
      "|        1|       1.0|\n",
      "|        0|       1.0|\n",
      "|        0|       1.0|\n",
      "|        0|       1.0|\n",
      "|        1|       1.0|\n",
      "|        1|       1.0|\n",
      "|        1|       1.0|\n",
      "|        1|       0.0|\n",
      "|        0|       1.0|\n",
      "|        0|       1.0|\n",
      "+---------+----------+\n",
      "only showing top 10 rows\n",
      "\n"
     ]
    },
    {
     "name": "stderr",
     "output_type": "stream",
     "text": [
      "                                                                                \r"
     ]
    }
   ],
   "source": [
    "print(predictions.count())\n",
    "predictions.select([\"reordered\", \"prediction\"]).show(10)"
   ]
  },
  {
   "cell_type": "markdown",
   "metadata": {},
   "source": [
    "#### Evaluation"
   ]
  },
  {
   "cell_type": "code",
   "execution_count": 59,
   "metadata": {},
   "outputs": [
    {
     "name": "stderr",
     "output_type": "stream",
     "text": [
      "24/06/05 19:03:28 WARN DAGScheduler: Broadcasting large task binary with size 66.8 MiB\n",
      "24/06/05 19:06:06 WARN DAGScheduler: Broadcasting large task binary with size 66.8 MiB\n",
      "                                                                                \r"
     ]
    },
    {
     "name": "stdout",
     "output_type": "stream",
     "text": [
      "AUC-ROC: 0.7579\n",
      "Accuracy: 0.7148\n",
      "Precision: 0.7063\n",
      "Recall: 0.8984\n"
     ]
    },
    {
     "data": {
      "image/png": "[encoded data removed]",
      "text/plain": [
       "<Figure size 640x480 with 2 Axes>"
      ]
     },
     "metadata": {},
     "output_type": "display_data"
    }
   ],
   "source": [
    "# Ensure all necessary imports\n",
    "from pyspark.ml.evaluation import BinaryClassificationEvaluator, MulticlassClassificationEvaluator\n",
    "from sklearn.metrics import confusion_matrix, ConfusionMatrixDisplay\n",
    "import matplotlib.pyplot as plt\n",
    "\n",
    "# Evaluate model\n",
    "binary_evaluator = BinaryClassificationEvaluator(labelCol=\"reordered\")\n",
    "auc = binary_evaluator.evaluate(predictions, {binary_evaluator.metricName: \"areaUnderROC\"})\n",
    "\n",
    "# Confusion matrix\n",
    "class_temp = predictions.select(\"reordered\").groupBy(\"reordered\").count().sort('count', ascending=False).toPandas()\n",
    "class_names = class_temp[\"reordered\"].values.tolist()\n",
    "\n",
    "y_true = predictions.select(\"reordered\").toPandas()[\"reordered\"].to_numpy()\n",
    "y_pred = predictions.select(\"prediction\").toPandas()[\"prediction\"].to_numpy()\n",
    "\n",
    "cm = confusion_matrix(y_true, y_pred)\n",
    "tn, fp, fn, tp = cm.ravel()\n",
    "\n",
    "# Multiclass classification evaluator for other metrics\n",
    "accuracy = (tp + tn) / (tp + tn + fp + fn)\n",
    "precision = tp / (tp + fp) if (tp + fp) != 0 else 0\n",
    "recall = tp / (tp + fn) if (tp + fn) != 0 else 0\n",
    "\n",
    "print(f\"AUC-ROC: {auc:.4f}\")\n",
    "print(f\"Accuracy: {accuracy:.4f}\")\n",
    "print(f\"Precision: {precision:.4f}\")\n",
    "print(f\"Recall: {recall:.4f}\")\n",
    "\n",
    "# Display confusion matrix in percent rate\n",
    "cm = confusion_matrix(y_true, y_pred, labels=class_names, normalize='true')\n",
    "disp = ConfusionMatrixDisplay(confusion_matrix=cm, display_labels=class_names)\n",
    "disp.plot()\n",
    "plt.show()\n"
   ]
  },
  {
   "cell_type": "markdown",
   "metadata": {},
   "source": [
    "#### Features Importances"
   ]
  },
  {
   "cell_type": "code",
   "execution_count": 62,
   "metadata": {},
   "outputs": [
    {
     "name": "stdout",
     "output_type": "stream",
     "text": [
      "Feature: cluster_indexed, Importance: 0.3303\n",
      "Feature: product_id_indexed, Importance: 0.1131\n",
      "Feature: scaled_numeric_features, Importance: 0.0714\n",
      "Feature: department_id_indexed, Importance: 0.0532\n",
      "Feature: aisle_id_indexed, Importance: 0.0328\n",
      "Feature: fav_aisle_aggregated_indexed, Importance: 0.0001\n",
      "Feature: fav_dept_aggregated_indexed, Importance: 0.0001\n"
     ]
    }
   ],
   "source": [
    "feature_importances = rf_model.featureImportances\n",
    "feature_names = final_assembler.getInputCols()\n",
    "\n",
    "feature_importance_list = [(feature, importance) for feature, importance in zip(feature_names, feature_importances)]\n",
    "feature_importance_list  = sorted(feature_importance_list, key=lambda x: abs(x[1]), reverse=True)\n",
    "for feature, importance in feature_importance_list:\n",
    "    print(f\"Feature: {feature}, Importance: {importance:.4f}\")"
   ]
  },
  {
   "cell_type": "code",
   "execution_count": 30,
   "metadata": {},
   "outputs": [],
   "source": [
    "# import lime.lime_tabular # type: ignore\n",
    "# import pandas as pd\n",
    "\n",
    "# from pyspark.ml.linalg import DenseVector\n",
    "# from pyspark.sql import Row\n",
    "\n",
    "# def predict_fn(data):\n",
    "#     # Convert the numpy array to a Spark DataFrame\n",
    "#     df = spark.createDataFrame([Row(features=DenseVector(row)) for row in data.tolist()])\n",
    "\n",
    "#     # Transform the DataFrame using the trained model\n",
    "#     predictions = rf_model.transform(df)\n",
    "#     print(\"done predictions\")\n",
    "    \n",
    "#     # Extract the probability column as a numpy array\n",
    "#     probs = predictions.select('probability').collect()\n",
    "#     probs = np.array(probs).reshape(len(data),2)\n",
    "#     return probs\n",
    "\n",
    "# # Initialize LIME explainer\n",
    "# explainer = lime.lime_tabular.LimeTabularExplainer(\n",
    "#     training_data=train_transformed.select('features').toPandas().to_numpy(),\n",
    "#     feature_names=final_assembler.getInputCols(),\n",
    "#     class_names=['Not Reordered', 'Reordered'],\n",
    "#     mode='classification'\n",
    "# )\n",
    "\n",
    "# # Select an instance to explain\n",
    "# instance = validation_transformed.select('features').collect()[0][0]\n",
    "# print(\"instance: \", instance)\n",
    "\n",
    "# # Explain the instance\n",
    "# exp = explainer.explain_instance(\n",
    "#     data_row=instance,\n",
    "#     predict_fn=predict_fn\n",
    "# )\n",
    "\n",
    "# # Display the explanation\n",
    "# # exp.show_in_notebook()\n",
    "# print(exp.as_list())\n",
    "# exp.save_to_file('lime_explanation.html')"
   ]
  },
  {
   "cell_type": "markdown",
   "metadata": {},
   "source": [
    "##### Save Model"
   ]
  },
  {
   "cell_type": "code",
   "execution_count": 63,
   "metadata": {},
   "outputs": [],
   "source": [
    "import os\n",
    "\n",
    "model_save_path = \"model/rf1_model\"\n",
    "os.makedirs(os.path.dirname(model_save_path), exist_ok=True)"
   ]
  },
  {
   "cell_type": "code",
   "execution_count": 64,
   "metadata": {},
   "outputs": [
    {
     "name": "stderr",
     "output_type": "stream",
     "text": [
      "24/06/05 19:18:57 WARN TaskSetManager: Stage 164 contains a task of very large size (7385 KiB). The maximum recommended task size is 1000 KiB.\n",
      "[Stage 166:>                                                        (0 + 1) / 1]\r"
     ]
    },
    {
     "name": "stdout",
     "output_type": "stream",
     "text": [
      "Model saved successfully at model/rf1_model\n"
     ]
    },
    {
     "name": "stderr",
     "output_type": "stream",
     "text": [
      "                                                                                \r"
     ]
    }
   ],
   "source": [
    "try:\n",
    "    rf_model.write().overwrite().save(model_save_path)\n",
    "    print(f\"Model saved successfully at {model_save_path}\")\n",
    "except Exception as e:\n",
    "    print(f\"Error saving the model: {e}\")"
   ]
  },
  {
   "cell_type": "code",
   "execution_count": null,
   "metadata": {},
   "outputs": [],
   "source": []
  }
 ],
 "metadata": {
  "kernelspec": {
   "display_name": "Python 3",
   "language": "python",
   "name": "python3"
  },
  "language_info": {
   "codemirror_mode": {
    "name": "ipython",
    "version": 3
   },
   "file_extension": ".py",
   "mimetype": "text/x-python",
   "name": "python",
   "nbconvert_exporter": "python",
   "pygments_lexer": "ipython3",
   "version": "3.11.7"
  }
 },
 "nbformat": 4,
 "nbformat_minor": 2
}
