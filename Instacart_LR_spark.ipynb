{
 "cells": [
  {
   "cell_type": "markdown",
   "metadata": {},
   "source": [
    "# **Logistic Regression**"
   ]
  },
  {
   "cell_type": "markdown",
   "metadata": {},
   "source": [
    "### **1. Get data**"
   ]
  },
  {
   "cell_type": "code",
   "execution_count": 1,
   "metadata": {},
   "outputs": [
    {
     "name": "stderr",
     "output_type": "stream",
     "text": [
      "24/06/04 14:57:51 WARN Utils: Your hostname, MacBook-Pro-2.local resolves to a loopback address: 127.0.0.1; using 10.0.0.228 instead (on interface en0)\n",
      "24/06/04 14:57:51 WARN Utils: Set SPARK_LOCAL_IP if you need to bind to another address\n",
      "Setting default log level to \"WARN\".\n",
      "To adjust logging level use sc.setLogLevel(newLevel). For SparkR, use setLogLevel(newLevel).\n",
      "24/06/04 14:57:52 WARN NativeCodeLoader: Unable to load native-hadoop library for your platform... using builtin-java classes where applicable\n"
     ]
    }
   ],
   "source": [
    "from pyspark.sql import SparkSession\n",
    "\n",
    "# Create a Spark session\n",
    "spark = SparkSession.builder \\\n",
    "    .config(\"spark.executor.memory\", \"4g\") \\\n",
    "    .config(\"spark.driver.memory\", \"15g\") \\\n",
    "    .appName(\"Logistic Regression Model\") \\\n",
    "    .getOrCreate()\n"
   ]
  },
  {
   "cell_type": "code",
   "execution_count": 2,
   "metadata": {},
   "outputs": [
    {
     "name": "stderr",
     "output_type": "stream",
     "text": [
      "24/06/04 14:58:06 WARN GarbageCollectionMetrics: To enable non-built-in garbage collector(s) List(G1 Concurrent GC), users should configure it(them) to spark.eventLog.gcMetrics.youngGenerationGarbageCollectors or spark.eventLog.gcMetrics.oldGenerationGarbageCollectors\n",
      "                                                                                \r"
     ]
    },
    {
     "name": "stdout",
     "output_type": "stream",
     "text": [
      "+----------+---------+--------+-------------+--------------------+-------------------+-------+------------------+---------------------+\n",
      "|product_id|reordered|aisle_id|department_id|fav_aisle_aggregated|fav_dept_aggregated|cluster| avg_cart_position|avg_purchase_interval|\n",
      "+----------+---------+--------+-------------+--------------------+-------------------+-------+------------------+---------------------+\n",
      "|     33120|        0|      86|           16|                  24|                  4|      0|              11.0|                 11.2|\n",
      "|     21903|        0|     123|            4|                  24|                  4|      0| 4.176470588235294|    8.941176470588236|\n",
      "|     24852|        1|      24|            4|                  24|                  4|      0|4.6923076923076925|                10.92|\n",
      "|     47766|        1|      24|            4|                  24|                  4|      0|               6.0|                  7.0|\n",
      "|     35951|        0|      91|           16|                  24|                  4|      0| 7.181818181818182|    9.636363636363637|\n",
      "+----------+---------+--------+-------------+--------------------+-------------------+-------+------------------+---------------------+\n",
      "only showing top 5 rows\n",
      "\n"
     ]
    }
   ],
   "source": [
    "# Read training data\n",
    "train_df = spark.read.csv(\"data/train.csv\", header=True, inferSchema=True)\n",
    "train_df = train_df.drop(\"_c0\")\n",
    "\n",
    "# Read test data\n",
    "test_df = spark.read.csv(\"data/test.csv\", header=True, inferSchema=True)\n",
    "test_df = test_df.drop(\"_c0\")\n",
    "\n",
    "train_df.show(5)"
   ]
  },
  {
   "cell_type": "code",
   "execution_count": 3,
   "metadata": {},
   "outputs": [
    {
     "name": "stderr",
     "output_type": "stream",
     "text": [
      "[Stage 5:>                                                        (0 + 10) / 10]\r"
     ]
    },
    {
     "name": "stdout",
     "output_type": "stream",
     "text": [
      "Training Dataset Count: 24142994\n",
      "Test Dataset Count: 975782\n"
     ]
    },
    {
     "name": "stderr",
     "output_type": "stream",
     "text": [
      "                                                                                \r"
     ]
    }
   ],
   "source": [
    "print(\"Training Dataset Count: \" + str(train_df.count()))\n",
    "print(\"Test Dataset Count: \" + str(test_df.count()))"
   ]
  },
  {
   "cell_type": "code",
   "execution_count": 4,
   "metadata": {},
   "outputs": [
    {
     "name": "stderr",
     "output_type": "stream",
     "text": [
      "[Stage 11:>                                                       (0 + 10) / 10]\r"
     ]
    },
    {
     "name": "stdout",
     "output_type": "stream",
     "text": [
      "+---------+--------+\n",
      "|reordered|   count|\n",
      "+---------+--------+\n",
      "|        1|14492645|\n",
      "|        0| 9650349|\n",
      "+---------+--------+\n",
      "\n"
     ]
    },
    {
     "name": "stderr",
     "output_type": "stream",
     "text": [
      "                                                                                \r"
     ]
    }
   ],
   "source": [
    "label_counts = train_df.groupBy(\"reordered\").count()\n",
    "label_counts.show()"
   ]
  },
  {
   "cell_type": "code",
   "execution_count": 5,
   "metadata": {},
   "outputs": [],
   "source": [
    "# total_samples = 19000000\n",
    "# desired_samples_per_label = total_samples // 2  # aiming for 9,500,000 samples for each label\n",
    "\n",
    "# count_label_0 = 9650349\n",
    "# count_label_1 = 14492645\n",
    "\n",
    "# fraction_label_0 = desired_samples_per_label / count_label_0\n",
    "# fraction_label_1 = desired_samples_per_label / count_label_1\n",
    "\n",
    "# fractions = {0: fraction_label_0, 1: fraction_label_1}\n",
    "\n",
    "# # Apply stratified sampling\n",
    "# train_sampled = train_df.sampleBy(\"reordered\", fractions, seed=42)"
   ]
  },
  {
   "cell_type": "code",
   "execution_count": 6,
   "metadata": {},
   "outputs": [],
   "source": [
    "# Check the count of each label in the 'reordered' column\n",
    "# label_counts = train_df.groupBy(\"reordered\").count()\n",
    "# print(\"Counts in 'reordered' column of train_limit:\")\n",
    "# label_counts.show()"
   ]
  },
  {
   "cell_type": "markdown",
   "metadata": {},
   "source": [
    "#### 1.1. Split train_df into train and validation data"
   ]
  },
  {
   "cell_type": "code",
   "execution_count": 7,
   "metadata": {},
   "outputs": [
    {
     "name": "stderr",
     "output_type": "stream",
     "text": [
      "                                                                                \r"
     ]
    },
    {
     "name": "stdout",
     "output_type": "stream",
     "text": [
      "Training Dataset Count: 19313049\n"
     ]
    },
    {
     "name": "stderr",
     "output_type": "stream",
     "text": [
      "[Stage 17:======================>                                  (4 + 6) / 10]\r"
     ]
    },
    {
     "name": "stdout",
     "output_type": "stream",
     "text": [
      "Validation Dataset Count: 4829945\n"
     ]
    },
    {
     "name": "stderr",
     "output_type": "stream",
     "text": [
      "                                                                                \r"
     ]
    }
   ],
   "source": [
    "train_data, validation_data = train_df.randomSplit([0.8, 0.2], seed=42)\n",
    "\n",
    "print(\"Training Dataset Count: \" + str(train_data.count()))\n",
    "print(\"Validation Dataset Count: \" + str(validation_data.count()))"
   ]
  },
  {
   "cell_type": "markdown",
   "metadata": {},
   "source": [
    "### **2. Data Preprocessing**"
   ]
  },
  {
   "cell_type": "code",
   "execution_count": 8,
   "metadata": {},
   "outputs": [],
   "source": [
    "from pyspark.ml.feature import StringIndexer, OneHotEncoder, VectorAssembler, StandardScaler\n",
    "from pyspark.ml import Pipeline"
   ]
  },
  {
   "cell_type": "code",
   "execution_count": 9,
   "metadata": {},
   "outputs": [],
   "source": [
    "numeric_features = [\"avg_cart_position\", \"avg_purchase_interval\"]\n",
    "categorical_features = [\"product_id\", \"aisle_id\", \"department_id\", \"fav_aisle_aggregated\", \"fav_dept_aggregated\", \"cluster\"]"
   ]
  },
  {
   "cell_type": "markdown",
   "metadata": {},
   "source": [
    "#### 2.1. Build Pipeline and Fit"
   ]
  },
  {
   "cell_type": "code",
   "execution_count": 10,
   "metadata": {},
   "outputs": [],
   "source": [
    "# sample_df = train_data.sample(fraction=0.01).limit(5)\n",
    "# sample_df.show()"
   ]
  },
  {
   "cell_type": "code",
   "execution_count": 11,
   "metadata": {},
   "outputs": [],
   "source": [
    "'''\n",
    "    Indexing categorical columns:\n",
    "    - The indexer assigns a unique index to each category based on \n",
    "        the frequency of the category appearing in the dataset \n",
    "        (most frequent category gets index 0)\n",
    "'''\n",
    "\n",
    "indexers = [\n",
    "    StringIndexer(inputCol=column, outputCol=column+\"_index\", handleInvalid=\"keep\")\n",
    "    for column in categorical_features\n",
    "]\n",
    "# for indexer in indexers:\n",
    "#     sample_df = indexer.fit(sample_df).transform(sample_df)\n",
    "#     sample_df.show()"
   ]
  },
  {
   "cell_type": "code",
   "execution_count": 12,
   "metadata": {},
   "outputs": [],
   "source": [
    "'''\n",
    "    Encoding categorical columns:\n",
    "    - OneHotEncoder (PySpark transformer): convert each index of a categorical feature into \n",
    "        a binary vector with at most a single one-value indicating the presence of \n",
    "        a specific feature value from among the set of all feature values.\n",
    "'''\n",
    "\n",
    "encoder = OneHotEncoder(\n",
    "    inputCols=[indexer.getOutputCol() for indexer in indexers],\n",
    "    outputCols=[f\"{column}_encoded\" for column in categorical_features]\n",
    ")\n",
    "\n",
    "# sample_df = encoder.fit(sample_df).transform(sample_df)\n",
    "# sample_df.show()"
   ]
  },
  {
   "cell_type": "code",
   "execution_count": 13,
   "metadata": {},
   "outputs": [],
   "source": [
    "'''\n",
    "    VectorAssembler: transformer that combines multiple columns of data into a single vector column\n",
    "    Output: one column of all features\n",
    "'''\n",
    "num_assembler = VectorAssembler(inputCols=numeric_features, outputCol=\"num_features\")\n",
    "\n",
    "# sample_df = num_assembler.transform(sample_df)\n",
    "\n",
    "'''\n",
    "    Scaling numerical features\n",
    "'''\n",
    "scaler = StandardScaler(inputCol=\"num_features\", outputCol=\"scaled_numeric_features\")\n",
    "\n",
    "# scaler_model = scaler.fit(sample_df)\n",
    "# sample_df = scaler_model.transform(sample_df)\n",
    "# sample_df.show()"
   ]
  },
  {
   "cell_type": "code",
   "execution_count": 14,
   "metadata": {},
   "outputs": [],
   "source": [
    "final_assembler = VectorAssembler(\n",
    "    inputCols=[f\"{column}_encoded\" for column in categorical_features] + [\"scaled_numeric_features\"],\n",
    "    outputCol=\"features\"\n",
    ")\n",
    "\n",
    "# sample_df = final_assembler.transform(sample_df)\n",
    "# sample_df.show()"
   ]
  },
  {
   "cell_type": "code",
   "execution_count": 15,
   "metadata": {},
   "outputs": [],
   "source": [
    "# Pipeline: include indexer stages, encoder, num_assembler, scaler, and final_assembler\n",
    "pipeline = Pipeline(stages=indexers + [encoder, num_assembler, scaler, final_assembler])"
   ]
  },
  {
   "cell_type": "code",
   "execution_count": 16,
   "metadata": {},
   "outputs": [
    {
     "name": "stderr",
     "output_type": "stream",
     "text": [
      "                                                                                \r"
     ]
    }
   ],
   "source": [
    "# Fit pipeline to training data\n",
    "pipeline_model = pipeline.fit(train_data)"
   ]
  },
  {
   "cell_type": "code",
   "execution_count": 17,
   "metadata": {},
   "outputs": [],
   "source": [
    "# Transform both training and validation data using the fitted pipeline model\n",
    "train_transformed = pipeline_model.transform(train_data)\n",
    "validation_transformed = pipeline_model.transform(validation_data)"
   ]
  },
  {
   "cell_type": "code",
   "execution_count": 18,
   "metadata": {},
   "outputs": [
    {
     "name": "stdout",
     "output_type": "stream",
     "text": [
      "root\n",
      " |-- product_id: integer (nullable = true)\n",
      " |-- reordered: integer (nullable = true)\n",
      " |-- aisle_id: integer (nullable = true)\n",
      " |-- department_id: integer (nullable = true)\n",
      " |-- fav_aisle_aggregated: integer (nullable = true)\n",
      " |-- fav_dept_aggregated: integer (nullable = true)\n",
      " |-- cluster: integer (nullable = true)\n",
      " |-- avg_cart_position: double (nullable = true)\n",
      " |-- avg_purchase_interval: double (nullable = true)\n",
      " |-- product_id_index: double (nullable = false)\n",
      " |-- aisle_id_index: double (nullable = false)\n",
      " |-- department_id_index: double (nullable = false)\n",
      " |-- fav_aisle_aggregated_index: double (nullable = false)\n",
      " |-- fav_dept_aggregated_index: double (nullable = false)\n",
      " |-- cluster_index: double (nullable = false)\n",
      " |-- product_id_encoded: vector (nullable = true)\n",
      " |-- aisle_id_encoded: vector (nullable = true)\n",
      " |-- department_id_encoded: vector (nullable = true)\n",
      " |-- fav_aisle_aggregated_encoded: vector (nullable = true)\n",
      " |-- fav_dept_aggregated_encoded: vector (nullable = true)\n",
      " |-- cluster_encoded: vector (nullable = true)\n",
      " |-- num_features: vector (nullable = true)\n",
      " |-- scaled_numeric_features: vector (nullable = true)\n",
      " |-- features: vector (nullable = true)\n",
      "\n"
     ]
    }
   ],
   "source": [
    "train_transformed.printSchema()"
   ]
  },
  {
   "cell_type": "markdown",
   "metadata": {},
   "source": [
    "#### 2.2. Fit Logistic Regression Model"
   ]
  },
  {
   "cell_type": "code",
   "execution_count": 19,
   "metadata": {},
   "outputs": [],
   "source": [
    "from pyspark.ml.classification import LogisticRegression\n",
    "import numpy as np"
   ]
  },
  {
   "cell_type": "code",
   "execution_count": 20,
   "metadata": {},
   "outputs": [],
   "source": [
    "lr = LogisticRegression(featuresCol='features', labelCol='reordered', maxIter=1000, tol=0.0001)"
   ]
  },
  {
   "cell_type": "code",
   "execution_count": 21,
   "metadata": {},
   "outputs": [],
   "source": [
    "# spark.sparkContext._conf.getAll()  # check the config\n",
    "\n",
    "# num_partitions = 10  # n parts\n",
    "\n",
    "# # Repartition DataFrame\n",
    "# train_data_partitioned = train_transformed.repartition(num_partitions)\n",
    "# validation_data_partitioned = validation_transformed.repartition(num_partitions)"
   ]
  },
  {
   "cell_type": "code",
   "execution_count": 22,
   "metadata": {},
   "outputs": [
    {
     "name": "stderr",
     "output_type": "stream",
     "text": [
      "24/06/04 15:01:22 WARN DAGScheduler: Broadcasting large task binary with size 7.4 MiB\n",
      "24/06/04 15:03:41 WARN DAGScheduler: Broadcasting large task binary with size 7.4 MiB\n",
      "24/06/04 15:03:42 WARN InstanceBuilder: Failed to load implementation from:dev.ludovic.netlib.blas.JNIBLAS\n",
      "24/06/04 15:03:42 WARN InstanceBuilder: Failed to load implementation from:dev.ludovic.netlib.blas.VectorBLAS\n",
      "24/06/04 15:03:42 WARN DAGScheduler: Broadcasting large task binary with size 7.4 MiB\n",
      "24/06/04 15:06:17 WARN DAGScheduler: Broadcasting large task binary with size 7.4 MiB\n",
      "24/06/04 15:06:18 WARN DAGScheduler: Broadcasting large task binary with size 7.4 MiB\n",
      "24/06/04 15:06:20 WARN DAGScheduler: Broadcasting large task binary with size 7.4 MiB\n",
      "24/06/04 15:06:20 WARN DAGScheduler: Broadcasting large task binary with size 7.4 MiB\n",
      "24/06/04 15:06:21 WARN DAGScheduler: Broadcasting large task binary with size 7.4 MiB\n",
      "24/06/04 15:06:22 WARN DAGScheduler: Broadcasting large task binary with size 7.4 MiB\n",
      "24/06/04 15:06:23 WARN DAGScheduler: Broadcasting large task binary with size 7.4 MiB\n",
      "24/06/04 15:06:23 WARN DAGScheduler: Broadcasting large task binary with size 7.4 MiB\n",
      "24/06/04 15:06:25 WARN DAGScheduler: Broadcasting large task binary with size 7.4 MiB\n",
      "24/06/04 15:06:25 WARN DAGScheduler: Broadcasting large task binary with size 7.4 MiB\n",
      "24/06/04 15:06:27 WARN DAGScheduler: Broadcasting large task binary with size 7.4 MiB\n",
      "24/06/04 15:06:27 WARN DAGScheduler: Broadcasting large task binary with size 7.4 MiB\n",
      "24/06/04 15:06:28 WARN DAGScheduler: Broadcasting large task binary with size 7.4 MiB\n",
      "24/06/04 15:06:29 WARN DAGScheduler: Broadcasting large task binary with size 7.4 MiB\n",
      "24/06/04 15:06:30 WARN DAGScheduler: Broadcasting large task binary with size 7.4 MiB\n",
      "24/06/04 15:06:31 WARN DAGScheduler: Broadcasting large task binary with size 7.4 MiB\n",
      "24/06/04 15:06:32 WARN DAGScheduler: Broadcasting large task binary with size 7.4 MiB\n",
      "24/06/04 15:06:32 WARN DAGScheduler: Broadcasting large task binary with size 7.4 MiB\n",
      "24/06/04 15:06:34 WARN DAGScheduler: Broadcasting large task binary with size 7.4 MiB\n",
      "24/06/04 15:06:35 WARN DAGScheduler: Broadcasting large task binary with size 7.4 MiB\n",
      "24/06/04 15:06:36 WARN DAGScheduler: Broadcasting large task binary with size 7.4 MiB\n",
      "24/06/04 15:06:36 WARN DAGScheduler: Broadcasting large task binary with size 7.4 MiB\n",
      "24/06/04 15:06:37 WARN DAGScheduler: Broadcasting large task binary with size 7.4 MiB\n",
      "24/06/04 15:06:38 WARN DAGScheduler: Broadcasting large task binary with size 7.4 MiB\n",
      "24/06/04 15:06:39 WARN DAGScheduler: Broadcasting large task binary with size 7.4 MiB\n",
      "24/06/04 15:06:40 WARN DAGScheduler: Broadcasting large task binary with size 7.4 MiB\n",
      "24/06/04 15:06:41 WARN DAGScheduler: Broadcasting large task binary with size 7.4 MiB\n",
      "24/06/04 15:06:42 WARN DAGScheduler: Broadcasting large task binary with size 7.4 MiB\n",
      "24/06/04 15:06:43 WARN DAGScheduler: Broadcasting large task binary with size 7.4 MiB\n",
      "24/06/04 15:06:44 WARN DAGScheduler: Broadcasting large task binary with size 7.4 MiB\n",
      "24/06/04 15:06:45 WARN DAGScheduler: Broadcasting large task binary with size 7.4 MiB\n",
      "24/06/04 15:06:45 WARN DAGScheduler: Broadcasting large task binary with size 7.4 MiB\n",
      "24/06/04 15:06:46 WARN DAGScheduler: Broadcasting large task binary with size 7.4 MiB\n",
      "24/06/04 15:06:47 WARN DAGScheduler: Broadcasting large task binary with size 7.4 MiB\n",
      "24/06/04 15:06:48 WARN DAGScheduler: Broadcasting large task binary with size 7.4 MiB\n",
      "24/06/04 15:06:49 WARN DAGScheduler: Broadcasting large task binary with size 7.4 MiB\n",
      "24/06/04 15:06:50 WARN DAGScheduler: Broadcasting large task binary with size 7.4 MiB\n",
      "24/06/04 15:06:51 WARN DAGScheduler: Broadcasting large task binary with size 7.4 MiB\n",
      "24/06/04 15:06:52 WARN DAGScheduler: Broadcasting large task binary with size 7.4 MiB\n",
      "24/06/04 15:06:53 WARN DAGScheduler: Broadcasting large task binary with size 7.4 MiB\n",
      "24/06/04 15:06:54 WARN DAGScheduler: Broadcasting large task binary with size 7.4 MiB\n",
      "24/06/04 15:06:55 WARN DAGScheduler: Broadcasting large task binary with size 7.4 MiB\n",
      "24/06/04 15:06:56 WARN DAGScheduler: Broadcasting large task binary with size 7.4 MiB\n",
      "24/06/04 15:06:57 WARN DAGScheduler: Broadcasting large task binary with size 7.4 MiB\n",
      "24/06/04 15:06:59 WARN DAGScheduler: Broadcasting large task binary with size 7.4 MiB\n",
      "24/06/04 15:06:59 WARN DAGScheduler: Broadcasting large task binary with size 7.4 MiB\n",
      "24/06/04 15:07:01 WARN DAGScheduler: Broadcasting large task binary with size 7.4 MiB\n",
      "24/06/04 15:07:01 WARN DAGScheduler: Broadcasting large task binary with size 7.4 MiB\n",
      "24/06/04 15:07:03 WARN DAGScheduler: Broadcasting large task binary with size 7.4 MiB\n",
      "24/06/04 15:07:04 WARN DAGScheduler: Broadcasting large task binary with size 7.4 MiB\n",
      "24/06/04 15:07:05 WARN DAGScheduler: Broadcasting large task binary with size 7.4 MiB\n",
      "24/06/04 15:07:06 WARN DAGScheduler: Broadcasting large task binary with size 7.4 MiB\n",
      "24/06/04 15:07:07 WARN DAGScheduler: Broadcasting large task binary with size 7.4 MiB\n",
      "24/06/04 15:07:07 WARN DAGScheduler: Broadcasting large task binary with size 7.4 MiB\n",
      "24/06/04 15:07:09 WARN DAGScheduler: Broadcasting large task binary with size 7.4 MiB\n",
      "24/06/04 15:07:10 WARN DAGScheduler: Broadcasting large task binary with size 7.4 MiB\n",
      "24/06/04 15:07:11 WARN DAGScheduler: Broadcasting large task binary with size 7.4 MiB\n",
      "24/06/04 15:07:12 WARN DAGScheduler: Broadcasting large task binary with size 7.4 MiB\n",
      "24/06/04 15:07:14 WARN DAGScheduler: Broadcasting large task binary with size 7.4 MiB\n",
      "                                                                                \r"
     ]
    }
   ],
   "source": [
    "# Fit initial model\n",
    "lr_model = lr.fit(train_transformed)"
   ]
  },
  {
   "cell_type": "code",
   "execution_count": 23,
   "metadata": {},
   "outputs": [],
   "source": [
    "predictions = lr_model.transform(validation_transformed)"
   ]
  },
  {
   "cell_type": "code",
   "execution_count": 24,
   "metadata": {},
   "outputs": [
    {
     "name": "stderr",
     "output_type": "stream",
     "text": [
      "                                                                                \r"
     ]
    },
    {
     "name": "stdout",
     "output_type": "stream",
     "text": [
      "4829945\n"
     ]
    },
    {
     "name": "stderr",
     "output_type": "stream",
     "text": [
      "24/06/04 15:07:32 WARN DAGScheduler: Broadcasting large task binary with size 7.7 MiB\n",
      "[Stage 106:>                                                        (0 + 1) / 1]\r"
     ]
    },
    {
     "name": "stdout",
     "output_type": "stream",
     "text": [
      "+---------+----------+\n",
      "|reordered|prediction|\n",
      "+---------+----------+\n",
      "|        1|       1.0|\n",
      "|        0|       0.0|\n",
      "|        0|       0.0|\n",
      "|        0|       1.0|\n",
      "|        1|       1.0|\n",
      "|        1|       1.0|\n",
      "|        1|       1.0|\n",
      "|        1|       1.0|\n",
      "|        0|       1.0|\n",
      "|        0|       1.0|\n",
      "+---------+----------+\n",
      "only showing top 10 rows\n",
      "\n"
     ]
    },
    {
     "name": "stderr",
     "output_type": "stream",
     "text": [
      "                                                                                \r"
     ]
    }
   ],
   "source": [
    "print(predictions.count())\n",
    "predictions.select([\"reordered\", \"prediction\"]).show(10)"
   ]
  },
  {
   "cell_type": "markdown",
   "metadata": {},
   "source": [
    "#### Evaluation"
   ]
  },
  {
   "cell_type": "code",
   "execution_count": 39,
   "metadata": {},
   "outputs": [
    {
     "name": "stderr",
     "output_type": "stream",
     "text": [
      "24/06/05 14:52:54 WARN DAGScheduler: Broadcasting large task binary with size 7.7 MiB\n",
      "24/06/05 14:54:21 WARN DAGScheduler: Broadcasting large task binary with size 7.7 MiB\n",
      "                                                                                \r"
     ]
    },
    {
     "name": "stdout",
     "output_type": "stream",
     "text": [
      "AUC-ROC: 0.7383\n",
      "Accuracy: 0.6942\n",
      "Precision: 0.7075\n",
      "Recall: 0.8364\n"
     ]
    },
    {
     "data": {
      "image/png": "[encoded data removed]",
      "text/plain": [
       "<Figure size 640x480 with 2 Axes>"
      ]
     },
     "metadata": {},
     "output_type": "display_data"
    }
   ],
   "source": [
    "# Ensure all necessary imports\n",
    "from pyspark.ml.evaluation import BinaryClassificationEvaluator, MulticlassClassificationEvaluator\n",
    "from sklearn.metrics import confusion_matrix, ConfusionMatrixDisplay\n",
    "import matplotlib.pyplot as plt\n",
    "\n",
    "# Evaluate model\n",
    "binary_evaluator = BinaryClassificationEvaluator(labelCol=\"reordered\")\n",
    "auc = binary_evaluator.evaluate(predictions, {binary_evaluator.metricName: \"areaUnderROC\"})\n",
    "\n",
    "# Confusion matrix\n",
    "class_temp = predictions.select(\"reordered\").groupBy(\"reordered\").count().sort('count', ascending=False).toPandas()\n",
    "class_names = class_temp[\"reordered\"].values.tolist()\n",
    "\n",
    "y_true = predictions.select(\"reordered\").toPandas()[\"reordered\"].to_numpy()\n",
    "y_pred = predictions.select(\"prediction\").toPandas()[\"prediction\"].to_numpy()\n",
    "\n",
    "cm = confusion_matrix(y_true, y_pred)\n",
    "tn, fp, fn, tp = cm.ravel()\n",
    "\n",
    "# Multiclass classification evaluator for other metrics\n",
    "accuracy = (tp + tn) / (tp + tn + fp + fn)\n",
    "precision = tp / (tp + fp) if (tp + fp) != 0 else 0\n",
    "recall = tp / (tp + fn) if (tp + fn) != 0 else 0\n",
    "\n",
    "print(f\"AUC-ROC: {auc:.4f}\")\n",
    "print(f\"Accuracy: {accuracy:.4f}\")\n",
    "print(f\"Precision: {precision:.4f}\")\n",
    "print(f\"Recall: {recall:.4f}\")\n",
    "\n",
    "# Display confusion matrix in percent rate\n",
    "cm = confusion_matrix(y_true, y_pred, labels=class_names, normalize='true')\n",
    "disp = ConfusionMatrixDisplay(confusion_matrix=cm, display_labels=class_names)\n",
    "disp.plot()\n",
    "plt.show()\n"
   ]
  },
  {
   "cell_type": "markdown",
   "metadata": {},
   "source": [
    "#### Features Importances"
   ]
  },
  {
   "cell_type": "code",
   "execution_count": 32,
   "metadata": {},
   "outputs": [
    {
     "name": "stdout",
     "output_type": "stream",
     "text": [
      "Feature: product_id_encoded, Importance: 0.9435895837895862\n",
      "Feature: aisle_id_encoded, Importance: 0.7973971898745966\n",
      "Feature: fav_aisle_aggregated_encoded, Importance: 0.7180967766806271\n",
      "Feature: fav_dept_aggregated_encoded, Importance: 0.545627572386023\n",
      "Feature: department_id_encoded, Importance: 0.48433017446109977\n",
      "Feature: cluster_encoded, Importance: 0.4652230477722137\n",
      "Feature: scaled_numeric_features, Importance: 0.198268540451126\n"
     ]
    }
   ],
   "source": [
    "feature_importances = lr_model.coefficients\n",
    "feature_names = final_assembler.getInputCols()\n",
    "\n",
    "feature_importance_list = [(feature, importance) for feature, importance in zip(feature_names, feature_importances)]\n",
    "feature_importance_list  = sorted(feature_importance_list, key=lambda x: abs(x[1]), reverse=True)\n",
    "for feature, importance in feature_importance_list:\n",
    "    print(f\"Feature: {feature}, Importance: {importance}\")"
   ]
  },
  {
   "cell_type": "code",
   "execution_count": 30,
   "metadata": {},
   "outputs": [],
   "source": [
    "# import lime.lime_tabular # type: ignore\n",
    "# import pandas as pd\n",
    "\n",
    "# from pyspark.ml.linalg import DenseVector\n",
    "# from pyspark.sql import Row\n",
    "\n",
    "# def predict_fn(data):\n",
    "#     # Convert the numpy array to a Spark DataFrame\n",
    "#     df = spark.createDataFrame([Row(features=DenseVector(row)) for row in data.tolist()])\n",
    "\n",
    "#     # Transform the DataFrame using the trained model\n",
    "#     predictions = lr_model.transform(df)\n",
    "#     print(\"done predictions\")\n",
    "    \n",
    "#     # Extract the probability column as a numpy array\n",
    "#     probs = predictions.select('probability').collect()\n",
    "#     probs = np.array(probs).reshape(len(data),2)\n",
    "#     return probs\n",
    "\n",
    "# # Initialize LIME explainer\n",
    "# explainer = lime.lime_tabular.LimeTabularExplainer(\n",
    "#     training_data=train_transformed.select('features').toPandas().to_numpy(),\n",
    "#     feature_names=final_assembler.getInputCols(),\n",
    "#     class_names=['Not Reordered', 'Reordered'],\n",
    "#     mode='classification'\n",
    "# )\n",
    "\n",
    "# # Select an instance to explain\n",
    "# instance = validation_transformed.select('features').collect()[0][0]\n",
    "# print(\"instance: \", instance)\n",
    "\n",
    "# # Explain the instance\n",
    "# exp = explainer.explain_instance(\n",
    "#     data_row=instance,\n",
    "#     predict_fn=predict_fn\n",
    "# )\n",
    "\n",
    "# # Display the explanation\n",
    "# # exp.show_in_notebook()\n",
    "# print(exp.as_list())\n",
    "# exp.save_to_file('lime_explanation.html')"
   ]
  },
  {
   "cell_type": "markdown",
   "metadata": {},
   "source": [
    "##### Save Model"
   ]
  },
  {
   "cell_type": "code",
   "execution_count": 35,
   "metadata": {},
   "outputs": [],
   "source": [
    "import os\n",
    "\n",
    "model_save_path = \"model/lr_base_model\"\n",
    "os.makedirs(os.path.dirname(model_save_path), exist_ok=True)"
   ]
  },
  {
   "cell_type": "code",
   "execution_count": 37,
   "metadata": {},
   "outputs": [
    {
     "name": "stdout",
     "output_type": "stream",
     "text": [
      "Model saved successfully at model/lr_base_model\n"
     ]
    },
    {
     "name": "stderr",
     "output_type": "stream",
     "text": [
      "                                                                                \r"
     ]
    }
   ],
   "source": [
    "try:\n",
    "    lr_model.write().overwrite().save(model_save_path)\n",
    "    print(f\"Model saved successfully at {model_save_path}\")\n",
    "except Exception as e:\n",
    "    print(f\"Error saving the model: {e}\")"
   ]
  },
  {
   "cell_type": "code",
   "execution_count": 38,
   "metadata": {},
   "outputs": [],
   "source": [
    "# Load the model\n",
    "# from pyspark.ml.classification import LogisticRegressionModel\n",
    "# loaded_lr_model = LogisticRegressionModel.load(\"/path/to/save/model\")\n"
   ]
  },
  {
   "cell_type": "code",
   "execution_count": 34,
   "metadata": {},
   "outputs": [
    {
     "name": "stdout",
     "output_type": "stream",
     "text": [
      "[('spark.sql.warehouse.dir', 'file:/Users/nhungluong/Local%20Documents/Extra%20Learning/DS&ML/Instacart/spark-warehouse'), ('spark.driver.extraJavaOptions', '-Djava.net.preferIPv6Addresses=false -XX:+IgnoreUnrecognizedVMOptions --add-opens=java.base/java.lang=ALL-UNNAMED --add-opens=java.base/java.lang.invoke=ALL-UNNAMED --add-opens=java.base/java.lang.reflect=ALL-UNNAMED --add-opens=java.base/java.io=ALL-UNNAMED --add-opens=java.base/java.net=ALL-UNNAMED --add-opens=java.base/java.nio=ALL-UNNAMED --add-opens=java.base/java.util=ALL-UNNAMED --add-opens=java.base/java.util.concurrent=ALL-UNNAMED --add-opens=java.base/java.util.concurrent.atomic=ALL-UNNAMED --add-opens=java.base/jdk.internal.ref=ALL-UNNAMED --add-opens=java.base/sun.nio.ch=ALL-UNNAMED --add-opens=java.base/sun.nio.cs=ALL-UNNAMED --add-opens=java.base/sun.security.action=ALL-UNNAMED --add-opens=java.base/sun.util.calendar=ALL-UNNAMED --add-opens=java.security.jgss/sun.security.krb5=ALL-UNNAMED -Djdk.reflect.useDirectMethodHandle=false'), ('spark.app.startTime', '1717538272155'), ('spark.executor.memory', '4g'), ('spark.driver.memory', '15g'), ('spark.executor.id', 'driver'), ('spark.app.id', 'local-1717538273832'), ('spark.driver.host', '10.0.0.228'), ('spark.driver.port', '51258'), ('spark.rdd.compress', 'True'), ('spark.executor.extraJavaOptions', '-Djava.net.preferIPv6Addresses=false -XX:+IgnoreUnrecognizedVMOptions --add-opens=java.base/java.lang=ALL-UNNAMED --add-opens=java.base/java.lang.invoke=ALL-UNNAMED --add-opens=java.base/java.lang.reflect=ALL-UNNAMED --add-opens=java.base/java.io=ALL-UNNAMED --add-opens=java.base/java.net=ALL-UNNAMED --add-opens=java.base/java.nio=ALL-UNNAMED --add-opens=java.base/java.util=ALL-UNNAMED --add-opens=java.base/java.util.concurrent=ALL-UNNAMED --add-opens=java.base/java.util.concurrent.atomic=ALL-UNNAMED --add-opens=java.base/jdk.internal.ref=ALL-UNNAMED --add-opens=java.base/sun.nio.ch=ALL-UNNAMED --add-opens=java.base/sun.nio.cs=ALL-UNNAMED --add-opens=java.base/sun.security.action=ALL-UNNAMED --add-opens=java.base/sun.util.calendar=ALL-UNNAMED --add-opens=java.security.jgss/sun.security.krb5=ALL-UNNAMED -Djdk.reflect.useDirectMethodHandle=false'), ('spark.serializer.objectStreamReset', '100'), ('spark.master', 'local[*]'), ('spark.submit.pyFiles', ''), ('spark.submit.deployMode', 'client'), ('spark.ui.showConsoleProgress', 'true'), ('spark.app.submitTime', '1717538271934'), ('spark.app.name', 'Logistic Regression Model')]\n"
     ]
    }
   ],
   "source": [
    "print(spark.sparkContext.getConf().getAll())"
   ]
  },
  {
   "cell_type": "code",
   "execution_count": null,
   "metadata": {},
   "outputs": [],
   "source": []
  }
 ],
 "metadata": {
  "kernelspec": {
   "display_name": "Python 3",
   "language": "python",
   "name": "python3"
  },
  "language_info": {
   "codemirror_mode": {
    "name": "ipython",
    "version": 3
   },
   "file_extension": ".py",
   "mimetype": "text/x-python",
   "name": "python",
   "nbconvert_exporter": "python",
   "pygments_lexer": "ipython3",
   "version": "3.11.7"
  }
 },
 "nbformat": 4,
 "nbformat_minor": 2
}
